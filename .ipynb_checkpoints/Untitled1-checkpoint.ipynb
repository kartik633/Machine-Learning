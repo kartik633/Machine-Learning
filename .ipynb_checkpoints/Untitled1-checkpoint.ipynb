{
 "cells": [
  {
   "cell_type": "code",
   "execution_count": null,
   "metadata": {},
   "outputs": [],
   "source": [
    "#Python\n",
    "import sys\n",
    "print('Python:{}'.format(sys.version))\n",
    "#scipy\n",
    "import scipy\n",
    "print('scipy:{}'.format(scipy.__version__))\n",
    "#numpy\n",
    "import numpy\n",
    "print('numpy:{}'.format(numpy.__version__))\n",
    "#matplotlib\n",
    "import matplotlib\n",
    "print('matplotlib:{}'.format(matplotlib.__version__))\n",
    "#pandas\n",
    "import pandas\n",
    "print('pandas:{}'.format(pandas.__version__))\n",
    "#scikit-learn\n",
    "import sklearn\n",
    "print('sklearn:{}'.format(sklearn.__version__))"
   ]
  }
 ],
 "metadata": {
  "kernelspec": {
   "display_name": "Python 3",
   "language": "python",
   "name": "python3"
  },
  "language_info": {
   "codemirror_mode": {
    "name": "ipython",
    "version": 3
   },
   "file_extension": ".py",
   "mimetype": "text/x-python",
   "name": "python",
   "nbconvert_exporter": "python",
   "pygments_lexer": "ipython3",
   "version": "3.8.3"
  }
 },
 "nbformat": 4,
 "nbformat_minor": 4
}
